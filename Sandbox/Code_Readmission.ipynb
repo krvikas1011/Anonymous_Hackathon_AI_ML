{
 "cells": [
  {
   "cell_type": "code",
   "execution_count": 102,
   "metadata": {},
   "outputs": [
    {
     "name": "stdout",
     "output_type": "stream",
     "text": [
      "(101766, 48)\n",
      "<class 'pandas.core.frame.DataFrame'>\n",
      "RangeIndex: 101766 entries, 0 to 101765\n",
      "Data columns (total 48 columns):\n",
      "encounter_id                101766 non-null int64\n",
      "patient_nbr                 101766 non-null int64\n",
      "race                        101766 non-null object\n",
      "gender                      101766 non-null object\n",
      "age                         101766 non-null object\n",
      "admission_type_id           101766 non-null int64\n",
      "discharge_disposition_id    101766 non-null int64\n",
      "admission_source_id         101766 non-null int64\n",
      "time_in_hospital            101766 non-null int64\n",
      "medical_specialty           101766 non-null object\n",
      "num_lab_procedures          101766 non-null int64\n",
      "num_procedures              101766 non-null int64\n",
      "num_medications             101766 non-null int64\n",
      "number_outpatient           101766 non-null int64\n",
      "number_emergency            101766 non-null int64\n",
      "number_inpatient            101766 non-null int64\n",
      "diag_1                      101766 non-null object\n",
      "diag_2                      101766 non-null object\n",
      "diag_3                      101766 non-null object\n",
      "number_diagnoses            101766 non-null int64\n",
      "max_glu_serum               101766 non-null object\n",
      "A1Cresult                   101766 non-null object\n",
      "metformin                   101766 non-null object\n",
      "repaglinide                 101766 non-null object\n",
      "nateglinide                 101766 non-null object\n",
      "chlorpropamide              101766 non-null object\n",
      "glimepiride                 101766 non-null object\n",
      "acetohexamide               101766 non-null object\n",
      "glipizide                   101766 non-null object\n",
      "glyburide                   101766 non-null object\n",
      "tolbutamide                 101766 non-null object\n",
      "pioglitazone                101766 non-null object\n",
      "rosiglitazone               101766 non-null object\n",
      "acarbose                    101766 non-null object\n",
      "miglitol                    101766 non-null object\n",
      "troglitazone                101766 non-null object\n",
      "tolazamide                  101766 non-null object\n",
      "examide                     101766 non-null object\n",
      "citoglipton                 101766 non-null object\n",
      "insulin                     101766 non-null object\n",
      "glyburide-metformin         101766 non-null object\n",
      "glipizide-metformin         101766 non-null object\n",
      "glimepiride-pioglitazone    101766 non-null object\n",
      "metformin-rosiglitazone     101766 non-null object\n",
      "metformin-pioglitazone      101766 non-null object\n",
      "change                      101766 non-null object\n",
      "diabetesMed                 101766 non-null object\n",
      "readmitted                  101766 non-null object\n",
      "dtypes: int64(13), object(35)\n",
      "memory usage: 37.3+ MB\n",
      "None\n",
      "       encounter_id   patient_nbr  admission_type_id  \\\n",
      "count  1.017660e+05  1.017660e+05      101766.000000   \n",
      "mean   1.652016e+08  5.433040e+07           2.024006   \n",
      "std    1.026403e+08  3.869636e+07           1.445403   \n",
      "min    1.252200e+04  1.350000e+02           1.000000   \n",
      "25%    8.496119e+07  2.341322e+07           1.000000   \n",
      "50%    1.523890e+08  4.550514e+07           1.000000   \n",
      "75%    2.302709e+08  8.754595e+07           3.000000   \n",
      "max    4.438672e+08  1.895026e+08           8.000000   \n",
      "\n",
      "       discharge_disposition_id  admission_source_id  time_in_hospital  \\\n",
      "count             101766.000000        101766.000000     101766.000000   \n",
      "mean                   3.715642             5.754437          4.395987   \n",
      "std                    5.280166             4.064081          2.985108   \n",
      "min                    1.000000             1.000000          1.000000   \n",
      "25%                    1.000000             1.000000          2.000000   \n",
      "50%                    1.000000             7.000000          4.000000   \n",
      "75%                    4.000000             7.000000          6.000000   \n",
      "max                   28.000000            25.000000         14.000000   \n",
      "\n",
      "       num_lab_procedures  num_procedures  num_medications  number_outpatient  \\\n",
      "count       101766.000000   101766.000000    101766.000000      101766.000000   \n",
      "mean            43.095641        1.339730        16.021844           0.369357   \n",
      "std             19.674362        1.705807         8.127566           1.267265   \n",
      "min              1.000000        0.000000         1.000000           0.000000   \n",
      "25%             31.000000        0.000000        10.000000           0.000000   \n",
      "50%             44.000000        1.000000        15.000000           0.000000   \n",
      "75%             57.000000        2.000000        20.000000           0.000000   \n",
      "max            132.000000        6.000000        81.000000          42.000000   \n",
      "\n",
      "       number_emergency  number_inpatient  number_diagnoses  \n",
      "count     101766.000000     101766.000000     101766.000000  \n",
      "mean           0.197836          0.635566          7.422607  \n",
      "std            0.930472          1.262863          1.933600  \n",
      "min            0.000000          0.000000          1.000000  \n",
      "25%            0.000000          0.000000          6.000000  \n",
      "50%            0.000000          0.000000          8.000000  \n",
      "75%            0.000000          1.000000          9.000000  \n",
      "max           76.000000         21.000000         16.000000  \n"
     ]
    }
   ],
   "source": [
    "# import libraries needed\n",
    "import IPython\n",
    "import pandas as pd\n",
    "import numpy as np\n",
    "from statistics import mode\n",
    "import matplotlib.pyplot as plt\n",
    "from sklearn.preprocessing import MinMaxScaler\n",
    "# load original data into dataframe and check shape\n",
    "df_ori = pd.read_excel(\"C:/Arshi/Hackathon 2018/DataSet/problem3_readmission_diabetic.xlsx\")\n",
    "print(df_ori.shape)\n",
    "# examine the data types and descriptive stats\n",
    "print(df_ori.info())\n",
    "print(df_ori.describe())\n",
    "# make a copy of the dataframe for preprocessing\n",
    "df = df_ori.copy(deep=True)"
   ]
  },
  {
   "cell_type": "code",
   "execution_count": 8,
   "metadata": {},
   "outputs": [],
   "source": [
    "def outliers(x): \n",
    "    return np.abs(x- x.median()) > 1.5*(x.quantile(.75)-x.quantile(0.25))"
   ]
  },
  {
   "cell_type": "code",
   "execution_count": 13,
   "metadata": {},
   "outputs": [
    {
     "data": {
      "text/plain": [
       "8         13\n",
       "9         12\n",
       "15        12\n",
       "23        11\n",
       "42        13\n",
       "49        11\n",
       "71        12\n",
       "73        14\n",
       "114       14\n",
       "121       11\n",
       "123       11\n",
       "135       13\n",
       "144       11\n",
       "151       14\n",
       "175       11\n",
       "180       13\n",
       "185       12\n",
       "209       12\n",
       "237       11\n",
       "248       14\n",
       "251       11\n",
       "255       11\n",
       "280       14\n",
       "285       12\n",
       "310       13\n",
       "323       12\n",
       "325       13\n",
       "336       12\n",
       "337       12\n",
       "363       11\n",
       "          ..\n",
       "100980    11\n",
       "101094    11\n",
       "101128    13\n",
       "101144    11\n",
       "101147    11\n",
       "101163    14\n",
       "101228    14\n",
       "101291    11\n",
       "101306    12\n",
       "101324    14\n",
       "101353    11\n",
       "101378    11\n",
       "101417    12\n",
       "101449    13\n",
       "101458    14\n",
       "101476    11\n",
       "101488    11\n",
       "101526    13\n",
       "101540    11\n",
       "101548    13\n",
       "101587    12\n",
       "101618    11\n",
       "101631    14\n",
       "101649    11\n",
       "101715    13\n",
       "101725    12\n",
       "101748    14\n",
       "101751    13\n",
       "101753    13\n",
       "101755    14\n",
       "Name: time_in_hospital, Length: 5555, dtype: int64"
      ]
     },
     "execution_count": 13,
     "metadata": {},
     "output_type": "execute_result"
    }
   ],
   "source": [
    "df.time_in_hospital[outliers(df.time_in_hospital)]"
   ]
  },
  {
   "cell_type": "code",
   "execution_count": 103,
   "metadata": {},
   "outputs": [
    {
     "name": "stdout",
     "output_type": "stream",
     "text": [
      "race 2273\n",
      "gender 0\n",
      "age 0\n",
      "medical_specialty 49949\n",
      "diag_1 21\n",
      "diag_2 358\n",
      "diag_3 1423\n",
      "max_glu_serum 0\n",
      "A1Cresult 0\n",
      "metformin 0\n",
      "repaglinide 0\n",
      "nateglinide 0\n",
      "chlorpropamide 0\n",
      "glimepiride 0\n",
      "acetohexamide 0\n",
      "glipizide 0\n",
      "glyburide 0\n",
      "tolbutamide 0\n",
      "pioglitazone 0\n",
      "rosiglitazone 0\n",
      "acarbose 0\n",
      "miglitol 0\n",
      "troglitazone 0\n",
      "tolazamide 0\n",
      "examide 0\n",
      "citoglipton 0\n",
      "insulin 0\n",
      "glyburide-metformin 0\n",
      "glipizide-metformin 0\n",
      "glimepiride-pioglitazone 0\n",
      "metformin-rosiglitazone 0\n",
      "metformin-pioglitazone 0\n",
      "change 0\n",
      "diabetesMed 0\n",
      "readmitted 0\n"
     ]
    }
   ],
   "source": [
    "for col in df.columns:\n",
    "    if df[col].dtype == object:\n",
    "         print(col,df[col][df[col] == '?'].count())"
   ]
  },
  {
   "cell_type": "code",
   "execution_count": 104,
   "metadata": {},
   "outputs": [
    {
     "name": "stdout",
     "output_type": "stream",
     "text": [
      "gender 3\n"
     ]
    }
   ],
   "source": [
    "# gender was coded differently so we use a custom count for this one\n",
    "print('gender', df['gender'][df['gender'] == 'Unknown/Invalid'].count())"
   ]
  },
  {
   "cell_type": "code",
   "execution_count": 105,
   "metadata": {},
   "outputs": [],
   "source": [
    "df = df.drop(['medical_specialty'], axis = 1)"
   ]
  },
  {
   "cell_type": "code",
   "execution_count": 106,
   "metadata": {},
   "outputs": [],
   "source": [
    "drop_Idx = set(df[(df['diag_1'] == '?') & (df['diag_2'] == '?') & (df['diag_3'] == '?')].index)\n",
    "drop_Idx = drop_Idx.union(set(df['gender'][df['gender'] == 'Unknown/Invalid'].index))\n",
    "drop_Idx = drop_Idx.union(set(df[df['discharge_disposition_id'] == 11].index))\n",
    "new_Idx = list(set(df.index) - set(drop_Idx))\n",
    "df = df.iloc[new_Idx]"
   ]
  },
  {
   "cell_type": "code",
   "execution_count": 107,
   "metadata": {},
   "outputs": [],
   "source": [
    "df = df.drop(['citoglipton', 'examide'], axis = 1)"
   ]
  },
  {
   "cell_type": "code",
   "execution_count": 108,
   "metadata": {},
   "outputs": [],
   "source": [
    "df['service_utilization'] = df['number_outpatient'] + df['number_emergency'] + df['number_inpatient']"
   ]
  },
  {
   "cell_type": "code",
   "execution_count": 109,
   "metadata": {},
   "outputs": [],
   "source": [
    "keys = ['metformin', 'repaglinide', 'nateglinide', 'chlorpropamide', 'glimepiride', 'glipizide', 'glyburide', 'pioglitazone', 'rosiglitazone', 'acarbose', 'miglitol', 'insulin', 'glyburide-metformin', 'tolazamide', 'metformin-pioglitazone','metformin-rosiglitazone', 'glimepiride-pioglitazone', 'glipizide-metformin', 'troglitazone', 'tolbutamide', 'acetohexamide']\n",
    "for col in keys:\n",
    "    colname = str(col) + 'temp'\n",
    "    df[colname] = df[col].apply(lambda x: 0 if (x == 'No' or x == 'Steady') else 1)\n",
    "df['numchange'] = 0\n",
    "for col in keys:\n",
    "    colname = str(col) + 'temp'\n",
    "    df['numchange'] = df['numchange'] + df[colname]\n",
    "    del df[colname]"
   ]
  },
  {
   "cell_type": "code",
   "execution_count": 110,
   "metadata": {},
   "outputs": [
    {
     "data": {
      "text/plain": [
       "0    72868\n",
       "1    25832\n",
       "2     1308\n",
       "3      107\n",
       "4        5\n",
       "Name: numchange, dtype: int64"
      ]
     },
     "execution_count": 110,
     "metadata": {},
     "output_type": "execute_result"
    }
   ],
   "source": [
    "df['numchange'].value_counts()"
   ]
  },
  {
   "cell_type": "code",
   "execution_count": 111,
   "metadata": {},
   "outputs": [],
   "source": [
    "df['nummed'] = 0\n",
    "for col in keys:\n",
    "    colname = str(col) + 'temp'\n",
    "    df[colname] = df[col].apply(lambda x: 0 if (x == 'No') else 1)\n",
    "for col in keys:\n",
    "    colname = str(col) + 'temp'\n",
    "    df['nummed'] = df['nummed'] + df[colname]\n",
    "    del df[colname]"
   ]
  },
  {
   "cell_type": "code",
   "execution_count": 112,
   "metadata": {},
   "outputs": [
    {
     "data": {
      "text/plain": [
       "1    46438\n",
       "0    22844\n",
       "2    21712\n",
       "3     7738\n",
       "4     1325\n",
       "5       58\n",
       "6        5\n",
       "Name: nummed, dtype: int64"
      ]
     },
     "execution_count": 112,
     "metadata": {},
     "output_type": "execute_result"
    }
   ],
   "source": [
    "df['nummed'].value_counts()"
   ]
  },
  {
   "cell_type": "code",
   "execution_count": 113,
   "metadata": {},
   "outputs": [],
   "source": [
    "# create a duplicate of the diagnosis column\n",
    "df['level1_diag1'] = df['diag_1']\n",
    "# disease codes starting with V or E are in “other” category; so recode them to 0\n",
    "df.loc[df['diag_1'].str.contains('V', na=False), ['level1_diag1']] = 0\n",
    "df.loc[df['diag_1'].str.contains('E', na=False), ['level1_diag1']] = 0\n",
    "# also replace the unknown values with -1\n",
    "df['level1_diag1'] = df['level1_diag1'].replace('?', -1)\n",
    "# iterate and recode disease codes between certain ranges to certain categories\n",
    "for index, row in df.iterrows():\n",
    "    if (row['level1_diag1'] >= 390 and row['level1_diag1'] < 460) or (np.floor(row['level1_diag1']) == 785):\n",
    "        df.loc[index, 'level1_diag1'] = 1\n",
    "    elif (row['level1_diag1'] >= 460 and row['level1_diag1'] < 520) or (np.floor(row['level1_diag1']) == 786):\n",
    "        df.loc[index, 'level1_diag1'] = 2\n",
    "    elif (row['level1_diag1'] >= 520 and row['level1_diag1'] < 580) or (np.floor(row['level1_diag1']) == 787):\n",
    "        df.loc[index, 'level1_diag1'] = 3\n",
    "    elif (np.floor(row['level1_diag1']) == 250):\n",
    "        df.loc[index, 'level1_diag1'] = 4\n",
    "    elif (row['level1_diag1'] >= 800 and row['level1_diag1'] < 1000):\n",
    "        df.loc[index, 'level1_diag1'] = 5\n",
    "    elif (row['level1_diag1'] >= 710 and row['level1_diag1'] < 740):\n",
    "        df.loc[index, 'level1_diag1'] = 6\n",
    "    elif (row['level1_diag1'] >= 580 and row['level1_diag1'] < 630) or (np.floor(row['level1_diag1']) == 788):\n",
    "        df.loc[index, 'level1_diag1'] = 7\n",
    "    elif (row['level1_diag1'] >= 140 and row['level1_diag1'] < 240):\n",
    "        df.loc[index, 'level1_diag1'] = 8\n",
    "    else:\n",
    "        df.loc[index, 'level1_diag1'] = 0\n",
    "# convert this variable to float type to enable computations later\n",
    "df['level1_diag1'] = df['level1_diag1'].astype(float)"
   ]
  },
  {
   "cell_type": "code",
   "execution_count": 114,
   "metadata": {},
   "outputs": [
    {
     "data": {
      "text/html": [
       "<div>\n",
       "<style scoped>\n",
       "    .dataframe tbody tr th:only-of-type {\n",
       "        vertical-align: middle;\n",
       "    }\n",
       "\n",
       "    .dataframe tbody tr th {\n",
       "        vertical-align: top;\n",
       "    }\n",
       "\n",
       "    .dataframe thead th {\n",
       "        text-align: right;\n",
       "    }\n",
       "</style>\n",
       "<table border=\"1\" class=\"dataframe\">\n",
       "  <thead>\n",
       "    <tr style=\"text-align: right;\">\n",
       "      <th></th>\n",
       "      <th>0</th>\n",
       "      <th>1</th>\n",
       "      <th>2</th>\n",
       "      <th>3</th>\n",
       "      <th>4</th>\n",
       "      <th>5</th>\n",
       "      <th>6</th>\n",
       "      <th>7</th>\n",
       "      <th>8</th>\n",
       "      <th>9</th>\n",
       "      <th>10</th>\n",
       "      <th>11</th>\n",
       "      <th>12</th>\n",
       "      <th>13</th>\n",
       "      <th>14</th>\n",
       "    </tr>\n",
       "  </thead>\n",
       "  <tbody>\n",
       "    <tr>\n",
       "      <th>diag_1</th>\n",
       "      <td>250.83</td>\n",
       "      <td>276</td>\n",
       "      <td>648</td>\n",
       "      <td>8</td>\n",
       "      <td>197</td>\n",
       "      <td>414</td>\n",
       "      <td>414</td>\n",
       "      <td>428</td>\n",
       "      <td>398</td>\n",
       "      <td>434</td>\n",
       "      <td>250.7</td>\n",
       "      <td>157</td>\n",
       "      <td>428</td>\n",
       "      <td>428</td>\n",
       "      <td>518</td>\n",
       "    </tr>\n",
       "    <tr>\n",
       "      <th>level1_diag1</th>\n",
       "      <td>4</td>\n",
       "      <td>0</td>\n",
       "      <td>0</td>\n",
       "      <td>0</td>\n",
       "      <td>8</td>\n",
       "      <td>1</td>\n",
       "      <td>1</td>\n",
       "      <td>1</td>\n",
       "      <td>1</td>\n",
       "      <td>1</td>\n",
       "      <td>4</td>\n",
       "      <td>8</td>\n",
       "      <td>1</td>\n",
       "      <td>1</td>\n",
       "      <td>2</td>\n",
       "    </tr>\n",
       "  </tbody>\n",
       "</table>\n",
       "</div>"
      ],
      "text/plain": [
       "                  0    1    2  3    4    5    6    7    8    9      10   11  \\\n",
       "diag_1        250.83  276  648  8  197  414  414  428  398  434  250.7  157   \n",
       "level1_diag1       4    0    0  0    8    1    1    1    1    1      4    8   \n",
       "\n",
       "               12   13   14  \n",
       "diag_1        428  428  518  \n",
       "level1_diag1    1    1    2  "
      ]
     },
     "execution_count": 114,
     "metadata": {},
     "output_type": "execute_result"
    }
   ],
   "source": [
    "df[['diag_1','level1_diag1']].head(15).T"
   ]
  },
  {
   "cell_type": "code",
   "execution_count": 115,
   "metadata": {},
   "outputs": [],
   "source": [
    "df.to_csv(\"C:/Arshi/Hackathon 2018/DataSet/problem3_readmission_diabetic_Filtered1.csv\")"
   ]
  },
  {
   "cell_type": "code",
   "execution_count": 116,
   "metadata": {},
   "outputs": [],
   "source": [
    "df['admission_type_id'] = df['admission_type_id'].replace(2,1)\n",
    "df['admission_type_id'] = df['admission_type_id'].replace(7,1)\n",
    "df['admission_type_id'] = df['admission_type_id'].replace(6,5)\n",
    "df['admission_type_id'] = df['admission_type_id'].replace(8,5)"
   ]
  },
  {
   "cell_type": "code",
   "execution_count": 117,
   "metadata": {},
   "outputs": [],
   "source": [
    "df['change'] = df['change'].replace('Ch', 1)\n",
    "df['change'] = df['change'].replace('No', 0)\n",
    "df['gender'] = df['gender'].replace('Male', 1)\n",
    "df['gender'] = df['gender'].replace('Female', 0)\n",
    "df['diabetesMed'] = df['diabetesMed'].replace('Yes', 1)\n",
    "df['diabetesMed'] = df['diabetesMed'].replace('No', 0)\n",
    "# keys is the same as before\n",
    "for col in keys:\n",
    "    df[col] = df[col].replace('No', 0)\n",
    "    df[col] = df[col].replace('Steady', 1)\n",
    "    df[col] = df[col].replace('Up', 1)\n",
    "    df[col] = df[col].replace('Down', 1)"
   ]
  },
  {
   "cell_type": "code",
   "execution_count": 118,
   "metadata": {},
   "outputs": [],
   "source": [
    "df['A1Cresult'] = df['A1Cresult'].replace('>7', 1)\n",
    "df['A1Cresult'] = df['A1Cresult'].replace('>8', 1)\n",
    "df['A1Cresult'] = df['A1Cresult'].replace('Norm', 0)\n",
    "df['A1Cresult'] = df['A1Cresult'].replace('None', -99)\n",
    "df['max_glu_serum'] = df['max_glu_serum'].replace('>200', 1)\n",
    "df['max_glu_serum'] = df['max_glu_serum'].replace('>300', 1)\n",
    "df['max_glu_serum'] = df['max_glu_serum'].replace('Norm', 0)\n",
    "df['max_glu_serum'] = df['max_glu_serum'].replace('None', -99)"
   ]
  },
  {
   "cell_type": "code",
   "execution_count": 119,
   "metadata": {},
   "outputs": [],
   "source": [
    "df['readmitted'] = df['readmitted'].replace('>30', 0)\n",
    "df['readmitted'] = df['readmitted'].replace('<30', 1)\n",
    "df['readmitted'] = df['readmitted'].replace('NO', 0)"
   ]
  },
  {
   "cell_type": "code",
   "execution_count": 120,
   "metadata": {},
   "outputs": [
    {
     "name": "stdout",
     "output_type": "stream",
     "text": [
      "75    25564\n",
      "65    22186\n",
      "55    17102\n",
      "85    16708\n",
      "45     9626\n",
      "35     3765\n",
      "95     2669\n",
      "25     1650\n",
      "15      690\n",
      "5       160\n",
      "Name: age, dtype: int64\n"
     ]
    }
   ],
   "source": [
    "age_dict = {'[0-10)':5, '[10-20)':15, '[20-30)':25, '[30-40)':35, '[40-50)':45, '[50-60)':55, '[60-70)':65, '[70-80)':75, '[80-90)':85, '[90-100)':95}\n",
    "df['age'] = df.age.map(age_dict)\n",
    "df['age'] = df['age'].astype('int64')\n",
    "print(df.age.value_counts())"
   ]
  },
  {
   "cell_type": "code",
   "execution_count": 128,
   "metadata": {},
   "outputs": [
    {
     "data": {
      "text/plain": [
       "(70442, 49)"
      ]
     },
     "execution_count": 128,
     "metadata": {},
     "output_type": "execute_result"
    }
   ],
   "source": [
    "df = df.drop_duplicates(subset= ['patient_nbr'], keep = 'first')\n",
    "df.shape"
   ]
  },
  {
   "cell_type": "code",
   "execution_count": 129,
   "metadata": {},
   "outputs": [],
   "source": [
    "numerics = [\"admission_type_id\", \"age\",\"discharge_disposition_id\", \"admission_source_id\", \"time_in_hospital\",\"num_lab_procedures\", \"num_procedures\", \"num_medications\", \"number_outpatient\", \"number_emergency\", \"number_inpatient\", \"number_diagnoses\", \"change\", \"diabetesMed\", \"readmitted\", \"service_utilization\", \"numchange\", \"nummed\", \"level1_diag1\"]\n",
    "numerics.extend(keys)"
   ]
  },
  {
   "cell_type": "code",
   "execution_count": 130,
   "metadata": {},
   "outputs": [],
   "source": [
    "def standardize(raw_data):\n",
    "    return ((raw_data - np.mean(raw_data, axis = 0)) / np.std(raw_data, axis = 0))\n",
    "\n",
    "# numerics is a list of all numeric features\n",
    "df[numerics] = standardize(df[numerics])"
   ]
  },
  {
   "cell_type": "code",
   "execution_count": 134,
   "metadata": {},
   "outputs": [
    {
     "data": {
      "text/plain": [
       "<matplotlib.axes._subplots.AxesSubplot at 0x2e7b4ca7e80>"
      ]
     },
     "execution_count": 134,
     "metadata": {},
     "output_type": "execute_result"
    },
    {
     "data": {
      "image/png": "[encoded data removed]",
      "text/plain": [
       "<Figure size 432x288 with 1 Axes>"
      ]
     },
     "metadata": {
      "needs_background": "light"
     },
     "output_type": "display_data"
    }
   ],
   "source": [
    "import scipy.stats as sp\n",
    "import warnings\n",
    "\n",
    "df.boxplot(column='acetohexamide')\n"
   ]
  },
  {
   "cell_type": "code",
   "execution_count": 132,
   "metadata": {},
   "outputs": [
    {
     "name": "stderr",
     "output_type": "stream",
     "text": [
      "C:\\Users\\AK045801\\AppData\\Local\\Continuum\\anaconda3\\lib\\site-packages\\scipy\\stats\\stats.py:2247: RuntimeWarning: Mean of empty slice.\n",
      "  mns = a.mean(axis=axis)\n",
      "C:\\Users\\AK045801\\AppData\\Local\\Continuum\\anaconda3\\lib\\site-packages\\numpy\\core\\_methods.py:78: RuntimeWarning: invalid value encountered in true_divide\n",
      "  ret, rcount, out=ret, casting='unsafe', subok=False)\n",
      "C:\\Users\\AK045801\\AppData\\Local\\Continuum\\anaconda3\\lib\\site-packages\\numpy\\core\\_methods.py:140: RuntimeWarning: Degrees of freedom <= 0 for slice\n",
      "  keepdims=keepdims)\n",
      "C:\\Users\\AK045801\\AppData\\Local\\Continuum\\anaconda3\\lib\\site-packages\\numpy\\core\\_methods.py:110: RuntimeWarning: invalid value encountered in true_divide\n",
      "  arrmean, rcount, out=arrmean, casting='unsafe', subok=False)\n",
      "C:\\Users\\AK045801\\AppData\\Local\\Continuum\\anaconda3\\lib\\site-packages\\numpy\\core\\_methods.py:130: RuntimeWarning: invalid value encountered in true_divide\n",
      "  ret, rcount, out=ret, casting='unsafe', subok=False)\n"
     ]
    }
   ],
   "source": [
    "df2 = df2[(np.abs(sp.stats.zscore(df2[numerics])) < 3).all(axis=1)]"
   ]
  },
  {
   "cell_type": "code",
   "execution_count": 137,
   "metadata": {},
   "outputs": [
    {
     "data": {
      "text/plain": [
       "max_glu_serum        max_glu_serum          1.000000\n",
       "A1Cresult            A1Cresult              1.000000\n",
       "metformin            metformin              1.000000\n",
       "repaglinide          repaglinide            1.000000\n",
       "numchange            numchange              1.000000\n",
       "encounter_id         encounter_id           1.000000\n",
       "number_outpatient    service_utilization    0.808302\n",
       "service_utilization  number_outpatient      0.808302\n",
       "nummed               change                 0.731185\n",
       "change               nummed                 0.731185\n",
       "diabetesMed          nummed                 0.706872\n",
       "nummed               diabetesMed            0.706872\n",
       "change               numchange              0.609089\n",
       "numchange            change                 0.609089\n",
       "diabetesMed          insulin                0.572456\n",
       "insulin              diabetesMed            0.572456\n",
       "nummed               metformin              0.548881\n",
       "metformin            nummed                 0.548881\n",
       "service_utilization  number_inpatient       0.526610\n",
       "number_inpatient     service_utilization    0.526610\n",
       "change               diabetesMed            0.506272\n",
       "diabetesMed          change                 0.506272\n",
       "patient_nbr          encounter_id           0.502268\n",
       "encounter_id         patient_nbr            0.502268\n",
       "change               insulin                0.500803\n",
       "insulin              change                 0.500803\n",
       "nummed               insulin                0.500132\n",
       "insulin              nummed                 0.500132\n",
       "service_utilization  number_emergency       0.490815\n",
       "number_emergency     service_utilization    0.490815\n",
       "time_in_hospital     num_medications        0.467931\n",
       "num_medications      time_in_hospital       0.467931\n",
       "numchange            insulin                0.425034\n",
       "insulin              numchange              0.425034\n",
       "admission_source_id  max_glu_serum          0.423561\n",
       "max_glu_serum        admission_source_id    0.423561\n",
       "admission_type_id    max_glu_serum          0.401492\n",
       "max_glu_serum        admission_type_id      0.401492\n",
       "num_medications      num_procedures         0.400298\n",
       "num_procedures       num_medications        0.400298\n",
       "metformin            change                 0.351968\n",
       "change               metformin              0.351968\n",
       "nummed               pioglitazone           0.338152\n",
       "pioglitazone         nummed                 0.338152\n",
       "glipizide            nummed                 0.337921\n",
       "nummed               glipizide              0.337921\n",
       "time_in_hospital     num_lab_procedures     0.332129\n",
       "num_lab_procedures   time_in_hospital       0.332129\n",
       "nummed               rosiglitazone          0.329022\n",
       "rosiglitazone        nummed                 0.329022\n",
       "numchange            nummed                 0.316755\n",
       "nummed               numchange              0.316755\n",
       "                     glyburide              0.312933\n",
       "glyburide            nummed                 0.312933\n",
       "numchange            diabetesMed            0.308365\n",
       "diabetesMed          numchange              0.308365\n",
       "                     metformin              0.290631\n",
       "metformin            diabetesMed            0.290631\n",
       "num_lab_procedures   A1Cresult              0.270411\n",
       "A1Cresult            num_lab_procedures     0.270411\n",
       "num_medications      num_lab_procedures     0.259065\n",
       "num_lab_procedures   num_medications        0.259065\n",
       "number_diagnoses     num_medications        0.258600\n",
       "num_medications      number_diagnoses       0.258600\n",
       "encounter_id         number_diagnoses       0.257703\n",
       "number_diagnoses     encounter_id           0.257703\n",
       "age                  number_diagnoses       0.254252\n",
       "number_diagnoses     age                    0.254252\n",
       "num_medications      change                 0.246424\n",
       "change               num_medications        0.246424\n",
       "nummed               num_medications        0.237304\n",
       "num_medications      nummed                 0.237304\n",
       "number_diagnoses     time_in_hospital       0.234370\n",
       "time_in_hospital     number_diagnoses       0.234370\n",
       "number_diagnoses     patient_nbr            0.228917\n",
       "patient_nbr          number_diagnoses       0.228917\n",
       "nummed               glimepiride            0.228914\n",
       "glimepiride          nummed                 0.228914\n",
       "numchange            num_medications        0.227300\n",
       "num_medications      numchange              0.227300\n",
       "glipizide            diabetesMed            0.215125\n",
       "diabetesMed          glipizide              0.215125\n",
       "dtype: float64"
      ]
     },
     "execution_count": 137,
     "metadata": {},
     "output_type": "execute_result"
    }
   ],
   "source": [
    "# increase row display limit\n",
    "pd.options.display.max_rows = 400\n",
    "# calculate correlation matrix and store as absolute values\n",
    "c = df.corr().abs()\n",
    "# unstake the table\n",
    "s = c.unstack()\n",
    "# sort the values in descending order\n",
    "so = s.sort_values(ascending=False)\n",
    "# display the most relevant part of the list\n",
    "so[38:120]"
   ]
  },
  {
   "cell_type": "code",
   "execution_count": 139,
   "metadata": {},
   "outputs": [],
   "source": [
    "interactionterms = [('num_medications','time_in_hospital'), ('num_medications','num_procedures'), ('time_in_hospital','num_lab_procedures'),\n",
    "('num_medications','num_lab_procedures'), ('num_medications','number_diagnoses'),\n",
    "('age','number_diagnoses'), ('change','num_medications'), ('number_diagnoses','time_in_hospital'), ('num_medications','numchange')]\n",
    " \n",
    "for inter in interactionterms:\n",
    "    name = inter[0] + '|' + inter[1]\n",
    "    df[name] = df[inter[0]] * df[inter[1]]"
   ]
  },
  {
   "cell_type": "code",
   "execution_count": 204,
   "metadata": {},
   "outputs": [],
   "source": [
    "training_features = [\"age\",\"discharge_disposition_id\", \"admission_source_id\", \"time_in_hospital\",\"num_lab_procedures\", \"num_procedures\", \"num_medications\", \"number_outpatient\", \"number_emergency\", \"number_inpatient\", \"number_diagnoses\", \"change\", \"diabetesMed\", \"readmitted\", \"service_utilization\", \"numchange\", \"nummed\", \"level1_diag1\"]\n",
    "for feature in training_features:\n",
    "    df = df[pd.notnull(df[feature])]\n",
    "df.to_csv(\"C:/Arshi/Hackathon 2018/DataSet/problem3_readmission_diabetic_Filtered_Step141.csv\")"
   ]
  },
  {
   "cell_type": "code",
   "execution_count": 205,
   "metadata": {},
   "outputs": [],
   "source": [
    "from sklearn.model_selection import train_test_split \n",
    "\n",
    "# load original data into dataframe and check shape\n",
    "df_ori = pd.read_csv('C:/Arshi/Hackathon 2018/DataSet/problem3_readmission_diabetic_Filtered_Step141.csv')\n",
    "\n",
    "\n",
    "train, test = train_test_split(df_ori, test_size=0.3)"
   ]
  },
  {
   "cell_type": "code",
   "execution_count": 206,
   "metadata": {},
   "outputs": [],
   "source": [
    "train_output = df_ori['readmitted']"
   ]
  },
  {
   "cell_type": "code",
   "execution_count": 207,
   "metadata": {},
   "outputs": [],
   "source": [
    "train_input = df_ori[training_features]"
   ]
  },
  {
   "cell_type": "code",
   "execution_count": 210,
   "metadata": {},
   "outputs": [
    {
     "name": "stdout",
     "output_type": "stream",
     "text": [
      "Original dataset shape Counter({-0.31329074805932955: 64146, 3.191923177416416: 6296})\n",
      "New dataset shape Counter({0: 64146, 3: 64146})\n"
     ]
    }
   ],
   "source": [
    "from imblearn.over_sampling import SMOTE\n",
    "from collections import Counter\n",
    "print('Original dataset shape {}'.format(Counter(train_output)))\n",
    "smt = SMOTE(random_state=20)\n",
    "train_input_new, train_output_new = smt.fit_sample(train_input, train_output.astype('int'))\n",
    "print('New dataset shape {}'.format(Counter(train_output_new)))"
   ]
  },
  {
   "cell_type": "code",
   "execution_count": 213,
   "metadata": {},
   "outputs": [
    {
     "name": "stdout",
     "output_type": "stream",
     "text": [
      "Cross Validation score: 100.00%\n",
      "Dev Set score: 100.00%\n"
     ]
    }
   ],
   "source": [
    "from sklearn.tree import DecisionTreeClassifier\n",
    "dte = DecisionTreeClassifier(max_depth=28, criterion = \"entropy\", min_samples_split=10)\n",
    "print(\"Cross Validation score: {:.2%}\".format(np.mean(cross_val_score(dte, X_train, Y_train, cv=10))))\n",
    "dte.fit(X_train, Y_train)\n",
    "print(\"Dev Set score: {:.2%}\".format(dte.score(X_dev, Y_dev)))"
   ]
  },
  {
   "cell_type": "code",
   "execution_count": 217,
   "metadata": {},
   "outputs": [
    {
     "name": "stdout",
     "output_type": "stream",
     "text": [
      "Accuracy is 1.00\n"
     ]
    }
   ],
   "source": [
    "Y_dev_predict = dte.predict(X_dev)\n",
    "pd.crosstab(pd.Series(Y_dev, name = 'Actual'), pd.Series(Y_dev_predict, name = 'Predict'), margins = True)\n",
    "from sklearn.metrics import accuracy_score, precision_score, recall_score, roc_auc_score\n",
    "print(\"Accuracy is {0:.2f}\".format(accuracy_score(Y_dev, Y_dev_predict)))\n"
   ]
  },
  {
   "cell_type": "code",
   "execution_count": null,
   "metadata": {},
   "outputs": [],
   "source": []
  }
 ],
 "metadata": {
  "kernelspec": {
   "display_name": "Python 3",
   "language": "python",
   "name": "python3"
  },
  "language_info": {
   "codemirror_mode": {
    "name": "ipython",
    "version": 3
   },
   "file_extension": ".py",
   "mimetype": "text/x-python",
   "name": "python",
   "nbconvert_exporter": "python",
   "pygments_lexer": "ipython3",
   "version": "3.7.0"
  }
 },
 "nbformat": 4,
 "nbformat_minor": 2
}
